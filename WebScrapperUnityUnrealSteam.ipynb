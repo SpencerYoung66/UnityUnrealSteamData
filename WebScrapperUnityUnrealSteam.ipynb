{
  "nbformat": 4,
  "nbformat_minor": 0,
  "metadata": {
    "colab": {
      "provenance": [],
      "collapsed_sections": []
    },
    "kernelspec": {
      "name": "python3",
      "display_name": "Python 3"
    },
    "language_info": {
      "name": "python"
    }
  },
  "cells": [
    {
      "cell_type": "code",
      "execution_count": 45,
      "metadata": {
        "id": "CvIAbKdCdAMK"
      },
      "outputs": [],
      "source": [
        "import pandas as pd\n",
        "import numpy as np\n",
        "import requests\n",
        "from bs4 import BeautifulSoup\n",
        "import re\n",
        "import time\n"
      ]
    },
    {
      "cell_type": "code",
      "source": [
        "# Get the Unity game list from Wikipedia, convert to Beautiful Soup object\n",
        "\n",
        "url = 'https://en.wikipedia.org/wiki/List_of_Unity_games'\n",
        "unityr = requests.get(url)\n",
        "unitysoup = BeautifulSoup(unityr.text)"
      ],
      "metadata": {
        "id": "qyFJ_PfYIuH8"
      },
      "execution_count": 2,
      "outputs": []
    },
    {
      "cell_type": "code",
      "source": [
        "# Games are all part of Unordered Lists\n",
        "unityullist = unitysoup.find_all(\"ul\")\n",
        "\n",
        "# 1 - 17 are the lists\n",
        "gamelist = []\n",
        "for i in range(0, 17):\n",
        "  # Games are all hyperlinks\n",
        "  for text in unityullist[i+1].find_all(\"a\"):\n",
        "    # Some links are just hyperlinks with the following format \"[number]\" or say citation needed, \n",
        "     # remove these\n",
        "    if bool(re.match(\"\\[\\d+\\]\", text.text)) or text.text == \"citation needed\":\n",
        "      continue\n",
        "    # Change to lowercase to avoid case differences later\n",
        "    gamelist.append(text.text.lower())\n",
        "\n",
        "print(len(gamelist))"
      ],
      "metadata": {
        "id": "fhAYRYS2IwFJ"
      },
      "execution_count": null,
      "outputs": []
    },
    {
      "cell_type": "code",
      "source": [
        "# Get list of all apps in Steam store, giant list\n",
        "url = \"http://api.steampowered.com/ISteamApps/GetAppList/v0002/?format=json\"\n",
        "r = requests.get(url)"
      ],
      "metadata": {
        "id": "yYrsV-SDFXf9"
      },
      "execution_count": 4,
      "outputs": []
    },
    {
      "cell_type": "code",
      "source": [
        "# Convert to dictionary\n",
        "unitygamesdict = r.json()"
      ],
      "metadata": {
        "id": "NeXLbCkOFYMr"
      },
      "execution_count": 5,
      "outputs": []
    },
    {
      "cell_type": "code",
      "source": [
        "# Comes as a three-stacked list (dict, list, list), loop through to inner dictionary and \n",
        " # convert to dictionary\n",
        "for lielement in unitygamesdict[\"applist\"][\"apps\"]:\n",
        "  lielement = dict(lielement)"
      ],
      "metadata": {
        "id": "oiFILhHZFYUp"
      },
      "execution_count": 6,
      "outputs": []
    },
    {
      "cell_type": "code",
      "source": [
        "# Create list of game titles from Steam\n",
        "steamgamelist = []\n",
        "for i in range(len(unitygamesdict[\"applist\"][\"apps\"])):\n",
        "  # Lower case so that easier to compare to Wikipedia list\n",
        "  steamgamelist.append(unitygamesdict[\"applist\"][\"apps\"][i][\"name\"].lower())\n",
        "\n",
        "# Convert to sets, do intersection to get all of the same games, convert back to list\n",
        "gamelist = list(set(gamelist) & set(steamgamelist))"
      ],
      "metadata": {
        "id": "KQZTqob5FYZ0"
      },
      "execution_count": 7,
      "outputs": []
    },
    {
      "cell_type": "code",
      "source": [
        "len(gamelist)"
      ],
      "metadata": {
        "colab": {
          "base_uri": "https://localhost:8080/"
        },
        "id": "V4wbJ311JhbR",
        "outputId": "8ef14a45-5cba-4cd4-e9b5-a7944d1887d2"
      },
      "execution_count": 8,
      "outputs": [
        {
          "output_type": "execute_result",
          "data": {
            "text/plain": [
              "363"
            ]
          },
          "metadata": {},
          "execution_count": 8
        }
      ]
    },
    {
      "cell_type": "code",
      "source": [
        "# Get tables from Unreal list, convert to Beautiful Soup\n",
        "url = 'https://en.wikipedia.org/wiki/List_of_Unreal_Engine_games'\n",
        "unrealdflist = pd.read_html(url)\n",
        "# unrealr = requests.get(url)\n",
        "# unrealsoup = BeautifulSoup(unrealr.text)"
      ],
      "metadata": {
        "id": "7hekBWdGNK8Y"
      },
      "execution_count": 9,
      "outputs": []
    },
    {
      "cell_type": "code",
      "source": [
        "# Initialize as blank, then loop through and combine tables from different years into one dataframe\n",
        "unrealdf = None\n",
        "for i in range(1, 7):\n",
        "  if unrealdf is None:\n",
        "   unrealdf = unrealdflist[i]\n",
        "  else:\n",
        "    unrealdf = unrealdf.append(unrealdflist[i], ignore_index = True)\n"
      ],
      "metadata": {
        "id": "MB-QIazPNWe0"
      },
      "execution_count": 10,
      "outputs": []
    },
    {
      "cell_type": "code",
      "source": [
        "# Erase null Platforms\n",
        "unrealdf = unrealdf[unrealdf[\"Platform\"].notnull()]\n",
        "\n",
        "# Only get the games released on Steam\n",
        "unrealdf = unrealdf[unrealdf[\"Platform\"].str.contains(\"Microsoft Windows\")]\n",
        "\n",
        "# Get rid of games that haven't Released\n",
        "unrealdf = unrealdf[unrealdf[\"Year\"] != \"TBA\"]\n",
        "\n",
        "# Get rid of games that haven't Released\n",
        "unrealdf = unrealdf[unrealdf[\"Year\"] != \"2023\"]\n",
        "\n",
        "unrealdf = unrealdf.reset_index()\n",
        "\n",
        "# Lower case for easier comparison\n",
        "unrealdf[\"Title\"] = unrealdf[\"Title\"].str.lower()"
      ],
      "metadata": {
        "id": "_qFx9b5kPVKa"
      },
      "execution_count": 11,
      "outputs": []
    },
    {
      "cell_type": "code",
      "source": [
        "for i in range(len(unrealdf)):\n",
        "  # Clean the titles, have one to many links, get rid of them\n",
        "  if bool(re.match(\".*\\[\\d+\\]\", unrealdf[\"Title\"].iloc[i])):\n",
        "    unrealdf[\"Title\"].iloc[i] = unrealdf[\"Title\"].iloc[i].split(\"[\")[0]"
      ],
      "metadata": {
        "id": "gLFbfb0Yz77H"
      },
      "execution_count": null,
      "outputs": []
    },
    {
      "cell_type": "code",
      "source": [
        "# Intersection between Unreal and steam games\n",
        "unrealgamelist = list(set(steamgamelist) & set(unrealdf[\"Title\"]))\n",
        "unrealgamelist"
      ],
      "metadata": {
        "id": "EZjcrK_y4YaM"
      },
      "execution_count": null,
      "outputs": []
    },
    {
      "cell_type": "code",
      "source": [
        "# Concatenate Unity games and Unreal games\n",
        "gamelist = gamelist + unrealgamelist"
      ],
      "metadata": {
        "id": "s9cE0geD9stc"
      },
      "execution_count": 14,
      "outputs": []
    },
    {
      "cell_type": "code",
      "source": [
        "len(gamelist)"
      ],
      "metadata": {
        "colab": {
          "base_uri": "https://localhost:8080/"
        },
        "id": "1wIzBqh09vuz",
        "outputId": "a705a974-bfba-4240-c0b4-448f73d3ed4a"
      },
      "execution_count": 33,
      "outputs": [
        {
          "output_type": "execute_result",
          "data": {
            "text/plain": [
              "773"
            ]
          },
          "metadata": {},
          "execution_count": 33
        }
      ]
    },
    {
      "cell_type": "code",
      "source": [
        "# Initialize blank list of appids as long as games\n",
        "appidlist = [None] * len(gamelist)\n",
        "\n",
        "# Loop through steam games and get Steam appid for game, put in identical index location as gamelist\n",
        "for i in range(len(unitygamesdict[\"applist\"][\"apps\"])):\n",
        "  if unitygamesdict[\"applist\"][\"apps\"][i][\"name\"].lower() in gamelist:\n",
        "    appidlist[gamelist.index(unitygamesdict[\"applist\"][\"apps\"][i][\"name\"].lower())] = unitygamesdict[\"applist\"][\"apps\"][i][\"appid\"]\n",
        "\n"
      ],
      "metadata": {
        "colab": {
          "base_uri": "https://localhost:8080/"
        },
        "id": "U0Aay0pTQfy_",
        "outputId": "562c28f8-305f-4711-e901-2000bd40de55"
      },
      "execution_count": 39,
      "outputs": [
        {
          "output_type": "stream",
          "name": "stdout",
          "text": [
            "741\n"
          ]
        }
      ]
    },
    {
      "cell_type": "code",
      "source": [
        "len(appidlist)"
      ],
      "metadata": {
        "colab": {
          "base_uri": "https://localhost:8080/"
        },
        "id": "xLRMtGoTBbdD",
        "outputId": "cfafb69c-0ca6-44db-9b8f-405b2ecccc90"
      },
      "execution_count": 41,
      "outputs": [
        {
          "output_type": "execute_result",
          "data": {
            "text/plain": [
              "773"
            ]
          },
          "metadata": {},
          "execution_count": 41
        }
      ]
    },
    {
      "cell_type": "code",
      "source": [
        "# Make DataFrame with Game Title and AppID\n",
        "completedict = {\"Game\": gamelist, \"AppID\": appidlist}\n",
        "completedf = pd.DataFrame(completedict)"
      ],
      "metadata": {
        "id": "M3hkDHJGB2Qu"
      },
      "execution_count": 43,
      "outputs": []
    },
    {
      "cell_type": "code",
      "source": [
        "# url = \"https://store.steampowered.com/api/appdetails?appids=373700\"\n",
        "# r = requests.get(url)\n",
        "# testjson = r.json()\n",
        "# testjson[\"373700\"][\"success\"]"
      ],
      "metadata": {
        "id": "VKG3I9SNC7BH"
      },
      "execution_count": null,
      "outputs": []
    },
    {
      "cell_type": "code",
      "source": [
        "# Get All rating info: Total ratings, positive ratings, negative ratings, review score, and review score description\n",
        "# Wait 2 seconds between API calls\n",
        "ratingsjsonlist = []\n",
        "for i in range(len(completedf)):\n",
        "  time.sleep(2)\n",
        "  url = \"https://store.steampowered.com/appreviews/\" + str(completedf['AppID'].iloc[i]) + \"?json=1&language=all\"\n",
        "  r = requests.get(url)\n",
        "  ratingsjsonlist.append(r.json()['query_summary'])"
      ],
      "metadata": {
        "id": "LjorBaDlGCoX"
      },
      "execution_count": 74,
      "outputs": []
    },
    {
      "cell_type": "code",
      "source": [
        "len(ratingsjsonlist)"
      ],
      "metadata": {
        "colab": {
          "base_uri": "https://localhost:8080/"
        },
        "id": "1oe6eTVuNLAV",
        "outputId": "5468efb4-c8a2-4a3e-d3d1-ad7f279e91fd"
      },
      "execution_count": 78,
      "outputs": [
        {
          "output_type": "execute_result",
          "data": {
            "text/plain": [
              "773"
            ]
          },
          "metadata": {},
          "execution_count": 78
        }
      ]
    },
    {
      "cell_type": "code",
      "source": [
        "# Initialize Blank lists for rest of columns\n",
        "reviewscore = []\n",
        "positivereviews = []\n",
        "negativereview = []\n",
        "reviewscoredesc = []\n",
        "totalreview = []\n",
        "unitssold = []\n",
        "engine = []\n",
        "\n",
        "# Loop through ratings list, get all of the info for the rest of the dataframe, including adding the engine (Unreal or Unity)\n",
        "for i in range(len(ratingsjsonlist)):\n",
        "  if gamelist[i] in unrealgamelist:\n",
        "    engine.append(\"Unreal Engine\")\n",
        "  else:\n",
        "    engine.append(\"Unity Engine\")\n",
        "  reviewscore.append(ratingsjsonlist[i]['review_score'])\n",
        "  positivereviews.append(ratingsjsonlist[i]['total_positive'])\n",
        "  negativereview.append(ratingsjsonlist[i]['total_negative'])\n",
        "  reviewscoredesc.append(ratingsjsonlist[i]['review_score_desc'])\n",
        "  totalreview.append(ratingsjsonlist[i]['total_reviews'])\n",
        "  unitssold.append(int(ratingsjsonlist[i]['total_reviews']) * 20)\n",
        "\n",
        "# Add lists as columns\n",
        "completedf['Review Score'] = reviewscore\n",
        "completedf['Positive Reviews'] = positivereviews\n",
        "completedf['Negative Reviews'] = negativereview\n",
        "completedf['Review Score Description'] = reviewscoredesc\n",
        "completedf['Total Review'] = totalreview\n",
        "completedf['Units Sold (Estimated)'] = unitssold\n",
        "completedf['Engine'] = engine"
      ],
      "metadata": {
        "id": "ybaNM_lKY7Ui"
      },
      "execution_count": 98,
      "outputs": []
    },
    {
      "cell_type": "code",
      "source": [
        "# Save DataFrame as csv\n",
        "completedf.to_csv(\"Games.csv\")"
      ],
      "metadata": {
        "id": "ifAWFxr6at4u"
      },
      "execution_count": 100,
      "outputs": []
    }
  ]
}